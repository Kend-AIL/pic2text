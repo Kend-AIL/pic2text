{
 "cells": [
  {
   "cell_type": "code",
   "execution_count": 2,
   "metadata": {},
   "outputs": [
    {
     "name": "stderr",
     "output_type": "stream",
     "text": [
      "/root/.conda/envs/pic2text/lib/python3.8/site-packages/tqdm/auto.py:21: TqdmWarning: IProgress not found. Please update jupyter and ipywidgets. See https://ipywidgets.readthedocs.io/en/stable/user_install.html\n",
      "  from .autonotebook import tqdm as notebook_tqdm\n"
     ]
    }
   ],
   "source": [
    "from PIL import Image\n",
    "import torchvision.transforms as transforms\n",
    "import torch\n",
    "import json\n",
    "from dpm.modules.search_strategy import beam_search"
   ]
  },
  {
   "cell_type": "code",
   "execution_count": 3,
   "metadata": {},
   "outputs": [],
   "source": [
    "def Pic2Text(Model, image_path):\n",
    "    # 读取图像\n",
    "    image = Image.open(image_path)\n",
    "    \n",
    "    # 转换图像\n",
    "    transform = transforms.Compose([\n",
    "        transforms.Resize((512, 374)),\n",
    "        transforms.ToTensor(),\n",
    "    ])\n",
    "\n",
    "    transformed_image = transform(image)\n",
    "\n",
    "    reshaped_image = transformed_image.unsqueeze(0)\n",
    "\n",
    "    # 生成序列\n",
    "    result,_ = beam_search(model=Model, X=reshaped_image, beam_width=3,predictions=60)\n",
    "\n",
    "    # 获取index\n",
    "    Index_file_path = \"data/vocabulary.json\"\n",
    "\n",
    "    with open(Index_file_path, 'r') as json_file:\n",
    "        index = json.load(json_file)\n",
    "    \n",
    "    index = dict(zip(index.values(), index.keys()))\n",
    "\n",
    "    # 展示句子\n",
    "    gen_num = result.size(1)\n",
    "\n",
    "    print(f\"{image_path} 生成句子为：\")\n",
    "    for i in range(gen_num):\n",
    "        description = result[0, gen_num].tolist()\n",
    "        description = ' '.join([index[w] for w in description if w not in range(4)])\n",
    "        print(description)"
   ]
  },
  {
   "cell_type": "code",
   "execution_count": 4,
   "metadata": {},
   "outputs": [],
   "source": [
    "model=torch.load('/root/pic2text/logs/2023-12-28T09-12-33/checkpoints/save.pt')"
   ]
  },
  {
   "cell_type": "code",
   "execution_count": 5,
   "metadata": {},
   "outputs": [],
   "source": [
    "img_path='/root/pic2text/data/deepfashion-multimodal/images/MEN-Denim-id_00000938-02_1_front.jpg'"
   ]
  },
  {
   "cell_type": "code",
   "execution_count": 6,
   "metadata": {},
   "outputs": [],
   "source": [
    "Pic2Text(model,img_path)"
   ]
  }
 ],
 "metadata": {
  "kernelspec": {
   "display_name": "pic2text",
   "language": "python",
   "name": "python3"
  },
  "language_info": {
   "codemirror_mode": {
    "name": "ipython",
    "version": 3
   },
   "file_extension": ".py",
   "mimetype": "text/x-python",
   "name": "python",
   "nbconvert_exporter": "python",
   "pygments_lexer": "ipython3",
   "version": "3.8.5"
  }
 },
 "nbformat": 4,
 "nbformat_minor": 2
}
